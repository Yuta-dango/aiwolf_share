{
 "cells": [
  {
   "cell_type": "markdown",
   "metadata": {},
   "source": [
    "第一段階　プロトコル文を受け取って発話する\n",
    "第二段階　各エージェントのスコア情報・過去の会話ログの情報も含めて発話"
   ]
  },
  {
   "cell_type": "code",
   "execution_count": 2,
   "metadata": {},
   "outputs": [
    {
     "data": {
      "text/plain": [
       "'\\n#現時点での各エージェントのスコア的なもの\\nscores = {\"Agent[00]\" : 29,\\u3000・・・}\\n\\u3000\\n#直前ターンの会話ログ\\nrecent_log = {\"Agent[00]\" : \"～\" , \\u3000・・・}\\n\\n'"
      ]
     },
     "execution_count": 2,
     "metadata": {},
     "output_type": "execute_result"
    }
   ],
   "source": [
    "#入力\n",
    "\n",
    "protocol = \"REQUEST Agent[04] (DEVINATION Agent[01])\"\n",
    "\n",
    "translated_protocol = first_translate(protocol)\n",
    "\"\"\"\n",
    "#現時点での各エージェントのスコア的なもの\n",
    "scores = {\"Agent[00]\" : 29,　・・・}\n",
    "　\n",
    "#直前ターンの会話ログ\n",
    "recent_log = {\"Agent[00]\" : \"～\" , 　・・・}\n",
    "\n",
    "\"\"\""
   ]
  },
  {
   "cell_type": "code",
   "execution_count": 2,
   "metadata": {},
   "outputs": [
    {
     "name": "stdout",
     "output_type": "stream",
     "text": [
      "僕は、どうしてもエージェント04が人狼だと思えて仕方ないんだ。彼の行動を振り返ってみると、怪しい点がいくつもあるんだよ。特に、夜になるたびに不自然に静かになっているのが気になるんだ。\n"
     ]
    }
   ],
   "source": [
    "from openai import OpenAI\n",
    "import openai\n",
    "import os\n",
    "# APIキーを環境変数として設定\n",
    "openai.api_key = os.environ[\"OPENAI_API_KEY\"]\n",
    "\n",
    "client = OpenAI()\n",
    "\n",
    "completion = client.chat.completions.create(\n",
    "  model=\"gpt-4o\",\n",
    "  messages=[\n",
    "    {\n",
    "      \"role\": \"system\", \n",
    "      \"content\": \"あなたは、人狼ゲームの参加者の、ドラえもんです。人狼ゲーム中で、発言したい内容が英語の一文で与えられるので、その趣旨を保ったまま、できる限り流ちょうな日本語で話を膨らませながら発言してください。最低でも3文は話すこと。\"\\\n",
    "        \"ただし、例外が存在するのでその場合は以下のように出力すること。\"\\\n",
    "        \"contentが「SKIP」または「OVER」の場合、出力はそのまま、SKIPおよびOVERを返してください。\"\\\n",
    "        \"contentがNoneの場合、SKIPを返してください。\"\n",
    "    },\n",
    "    \n",
    "    {\n",
    "      \"role\": \"user\", \n",
    "      \"content\": \"I think Agent[04] is the werewolf.\"\n",
    "    }\n",
    "  ]\n",
    ")\n",
    "\n",
    "print(completion.choices[0].message.content)"
   ]
  }
 ],
 "metadata": {
  "kernelspec": {
   "display_name": "Python 3",
   "language": "python",
   "name": "python3"
  },
  "language_info": {
   "codemirror_mode": {
    "name": "ipython",
    "version": 3
   },
   "file_extension": ".py",
   "mimetype": "text/x-python",
   "name": "python",
   "nbconvert_exporter": "python",
   "pygments_lexer": "ipython3",
   "version": "3.12.2"
  }
 },
 "nbformat": 4,
 "nbformat_minor": 2
}
