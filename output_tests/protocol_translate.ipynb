{
 "cells": [
  {
   "cell_type": "code",
   "execution_count": 1,
   "metadata": {},
   "outputs": [],
   "source": [
    "#ことばリスト\n",
    "keywords = [\"ESTIMATE\", \"COMINGOUT\", \"DIVINATION\", \"GUARD\", \"VOTE\", \"ATTACK\", \"DIVINED\", \"IDENTIFIED\", \"GUARDED\", \"VOTED\", \"ATTACKED\", \n",
    "           \"AND\", \"OR\", \"NOT\", \"XOR\",  ]\n",
    "verbs = [\"ESTIMATE\", \"COMINGOUT\", \"DIVINATION\", \"GUARD\", \"VOTE\", \"ATTACK\", \"DIVINED\", \"IDENTIFIED\", \"GUARDED\", \"VOTED\", \"ATTACKED\"]\n",
    "agents = [\"Agent[00]\", \"Agent[01]\", \"Agent[02]\", \"Agent[03]\", \"Agent[04]\", \"ANY\"]"
   ]
  },
  {
   "cell_type": "code",
   "execution_count": 2,
   "metadata": {},
   "outputs": [],
   "source": [
    "#入力\n",
    "protocol = \"REQUEST Agent[04] (DIVINATION Agent[01])\""
   ]
  },
  {
   "cell_type": "code",
   "execution_count": 32,
   "metadata": {},
   "outputs": [],
   "source": [
    "def keyword_check(protocol) :\n",
    "    #OVERとSKIPを確認\n",
    "    if protocol == \"OVER\" :\n",
    "        return \"OVER\"\n",
    "    elif protocol == \"SKIP\" :\n",
    "        return \"SKIP\"\n",
    "    \n",
    "    #REQUEST文/INQUIRE文か判別\n",
    "    elif protocol.split()[0] == \"REQUEST\" :\n",
    "        return \"REQUEST\"\n",
    "    \n",
    "    elif protocol.split()[0] == \"INQUIRE\" :\n",
    "        return \"INQUIRE\"\n",
    "    \n",
    "    #動詞・文構造を確定させる\n",
    "    else :\n",
    "        a = None\n",
    "        for i in keywords:\n",
    "            if i in [protocol.split()[0], protocol.split()[1]]:\n",
    "                a = i\n",
    "            else:\n",
    "                pass\n",
    "        return a\n",
    "            "
   ]
  },
  {
   "cell_type": "code",
   "execution_count": 40,
   "metadata": {},
   "outputs": [],
   "source": [
    "def first_translate(protocol):    #プロトコル文を最初の短い文章に翻訳する関数\n",
    "    \n",
    "    keyword = keyword_check(protocol)\n",
    "    \n",
    "    if keyword == \"OVER\" or keyword == \"SKIP\":\n",
    "        return keyword\n",
    "    \n",
    "    elif keyword in verbs:  #一般動詞の場合\n",
    "        if protocol.split()[0] == keyword: #主語なし\n",
    "            if keyword == \"ESTIMATE\":\n",
    "                return f\"I think {protocol.split()[1]} is the {protocol.split()[2]}.\"\n",
    "            elif keyword == \"COMINGOUT\":\n",
    "                return f\"I am the {protocol.split()[1]}.\"\n",
    "            elif keyword == \"DIVINATION\":\n",
    "                return f\"I will divine {protocol.split()[1]} tonight. \"\n",
    "            elif keyword == \"GUARD\":\n",
    "                return f\"I'm going to guard {protocol.split()[1]} from werewolf.\"\n",
    "            elif keyword == \"VOTE\":\n",
    "                return f\"I'm going to vote {protocol.split()[1]} today.\"\n",
    "            elif keyword == \"ATTACK\":\n",
    "                return f\"I will kill {protocol.split()[1]} tonight.\"\n",
    "            elif keyword == \"DIVINED\":\n",
    "                return f\"I divined {protocol.split()[1]} last night and he was the {protocol.split()[2]}.\"\n",
    "            elif keyword == \"IDENTIFIED\" :\n",
    "                return f\"I identified {protocol.split()[1]} last night and he was the {protocol.split()[2]}.\"\n",
    "            elif keyword == \"GUARDED\":\n",
    "                return f\"I guaded {protocol.split()[1]} from werewolf last night.\"\n",
    "            elif keyword == \"VOTED\":\n",
    "                return f\"I voted {protocol.split()[1]} yesterday.\"\n",
    "            elif keyword == \"ATTACKED\":\n",
    "                return f\"I attacked {protocol.split()[1]} last night.\"\n",
    "            else :\n",
    "                return None\n",
    "        \n",
    "        elif protocol.split()[1] == keyword :\n",
    "            if keyword == \"ESTIMATE\":\n",
    "                return f\"I think {protocol.split()[2]} is the {protocol.split()[3]}.\"\n",
    "            elif keyword == \"COMINGOUT\":\n",
    "                return f\"I am the {protocol.split()[2]}.\"\n",
    "            elif keyword == \"DIVINATION\":\n",
    "                return f\"I will divine {protocol.split()[2]} tonight. \"\n",
    "            elif keyword == \"GUARD\":\n",
    "                return f\"I'm going to guard {protocol.split()[2]} from werewolf.\"\n",
    "            elif keyword == \"VOTE\":\n",
    "                return f\"I'm going to vote {protocol.split()[2]} today.\"\n",
    "            elif keyword == \"ATTACK\":\n",
    "                return f\"I will kill {protocol.split()[2]} tonight.\"\n",
    "            elif keyword == \"DIVINED\":\n",
    "                return f\"I divined {protocol.split()[2]} last night and he was the {protocol.split()[3]}.\"\n",
    "            elif keyword == \"IDENTIFIED\" :\n",
    "                return f\"I identified {protocol.split()[2]} last night and he was the {protocol.split()[3]}.\"\n",
    "            elif keyword == \"GUARDED\":\n",
    "                return f\"I guaded {protocol.split()[2]} from werewolf last night.\"\n",
    "            elif keyword == \"VOTED\":\n",
    "                return f\"I voted {protocol.split()[2]} yesterday.\"\n",
    "            elif keyword == \"ATTACKED\":\n",
    "                return f\"I attacked {protocol.split()[2]} last night.\"\n",
    "            else :\n",
    "                return None\n",
    "            \n",
    "    elif keyword == \"REQUEST\":\n",
    "        if protocol.split()[2] == \"(DIVINATION\":\n",
    "            return f\"I want {protocol.split()[1]} to divine {protocol.split()[3]}.\"\n",
    "        elif protocol.split()[2] == \"(GUARD\":\n",
    "            return f\"I want {protocol.split()[1]} to guard {protocol.split()[3]} tonight.\"\n",
    "        elif protocol.split()[2] == \"(VOTE\":\n",
    "            return f\"I want {protocol.split()[1]} to vote {protocol.split()[3]} tonight.\"\n",
    "        elif protocol.split()[2] == \"(ATTACK\":\n",
    "            return f\"I want {protocol.split()[1]} to assault {protocol.split()[3]} tonight.\"\n",
    "        elif protocol.split()[2] == \"(ESTIMATE\":\n",
    "            return f\"I want {protocol.split()[1]} to consider that {protocol.split()[3]} is the {protocol.split()[4]}.\"\n",
    "        elif protocol.split()[2] == \"(COMINGOUT\" and not protocol.split()[4] == \"ANY)\" :\n",
    "            return f\"I want {protocol.split()[1]} to coming out to be {protocol.split()[3]}.\"\n",
    "        elif protocol.split()[2] == \"(COMINGOUT\" and protocol.split()[4] == \"ANY)\" :\n",
    "            return f\"I want {protocol.split()[1]} to coming out your job now.\"\n",
    "        else: \n",
    "            return None\n",
    "    \n",
    "    elif keyword == \"INQUIRE\":\n",
    "        return f\"Hey {protocol.split()[1]}, I'm curious about {protocol.split()[2:]}.\"\n",
    "    \n",
    "    else: #ANDなどの演算子はだるいので一旦保留\n",
    "        return None\n",
    "    \n",
    "    \n"
   ]
  },
  {
   "cell_type": "code",
   "execution_count": 42,
   "metadata": {},
   "outputs": [
    {
     "name": "stdout",
     "output_type": "stream",
     "text": [
      "ESTIMATE\n",
      "I want Agent[04] to divine Agent[01]).\n"
     ]
    }
   ],
   "source": [
    "\n",
    "print(keyword_check(\"ESTIMATE A B\"))\n",
    "print(first_translate(protocol))"
   ]
  },
  {
   "cell_type": "markdown",
   "metadata": {},
   "source": []
  }
 ],
 "metadata": {
  "kernelspec": {
   "display_name": "Python 3",
   "language": "python",
   "name": "python3"
  },
  "language_info": {
   "codemirror_mode": {
    "name": "ipython",
    "version": 3
   },
   "file_extension": ".py",
   "mimetype": "text/x-python",
   "name": "python",
   "nbconvert_exporter": "python",
   "pygments_lexer": "ipython3",
   "version": "3.12.2"
  }
 },
 "nbformat": 4,
 "nbformat_minor": 2
}
