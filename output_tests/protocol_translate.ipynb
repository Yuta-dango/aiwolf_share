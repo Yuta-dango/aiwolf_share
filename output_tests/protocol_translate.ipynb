{
 "cells": [
  {
   "cell_type": "code",
   "execution_count": null,
   "metadata": {},
   "outputs": [],
   "source": [
    "#ことばリスト\n",
    "keywords = [\"ESTIMATE\", \"COMINGOUT\", \"DIVINATION\", \"GUARD\", \"VOTE\", \"ATTACK\", \"DIVINED\", \"IDENTIFIED\", \"GUARDED\", \"VOTED\", \"ATTACKED\", \n",
    "           \"AND\", \"OR\", \"NOT\", \"XOR\",  ]\n",
    "verbs = [\"ESTIMATE\", \"COMINGOUT\", \"DIVINATION\", \"GUARD\", \"VOTE\", \"ATTACK\", \"DIVINED\", \"IDENTIFIED\", \"GUARDED\", \"VOTED\", \"ATTACKED\"]\n",
    "agents = [\"Agent[00]\", \"Agent[01]\", \"Agent[02]\", \"Agent[03]\", \"Agent[04]\", \"ANY\"]"
   ]
  },
  {
   "cell_type": "code",
   "execution_count": null,
   "metadata": {},
   "outputs": [],
   "source": [
    "#入力\n",
    "protocol = \"REQUEST Agent[04] (DIVINATION Agent[01])\""
   ]
  },
  {
   "cell_type": "code",
   "execution_count": null,
   "metadata": {},
   "outputs": [],
   "source": [
    "def keyword(protocol) :\n",
    "    #OVERとSKIPを確認\n",
    "    if protocol == \"OVER\" :\n",
    "        return \"OVER\"\n",
    "    elif protocol == \"SKIP\" :\n",
    "        return \"SKIP\"\n",
    "    \n",
    "    #REQUEST文/INQUIRE文か判別\n",
    "    elif protocol.split()[0] == \"REQUEST\" :\n",
    "        return \"REQUEST\"\n",
    "    \n",
    "    elif protocol.split()[0] == \"INQUIRE\" :\n",
    "        return \"INQUIRE\"\n",
    "    \n",
    "    #動詞・文構造を確定させる\n",
    "    else :\n",
    "        for i in keywords:\n",
    "            if i == protocol.split()[0]:\n",
    "                return i\n",
    "            elif i == protocol.split()[1]:\n",
    "                return i\n",
    "            else:\n",
    "                return None\n",
    "            \n",
    "def first_translate(protocol):    #プロトコル文を最初の短い文章に翻訳する関数\n",
    "    keyword = keyword(protocol)\n",
    "    \n",
    "    if keyword == \"OVER\" or \"SKIP\":\n",
    "        return keyword\n",
    "    \n",
    "    elif keyword in verbs:  #一般動詞の場合\n",
    "        if protocol.split()[0] == keyword: #主語なし\n",
    "            if keyword == \"ESTIMATE\":\n",
    "                return f\"I think {protocol.split()[1]} is the {protocol.split()[2]}\"\n",
    "            elif keyword == \"COMINGOUT\":\n",
    "                return f\"I am the {protocol.split()[1]}\"\n",
    "            elif keyword == \"DIVINATION\":\n",
    "                \n",
    "         \n",
    "            \n",
    "\n",
    "               \n",
    "    \n",
    "    \n",
    "    \n",
    "    \n",
    "    "
   ]
  },
  {
   "cell_type": "code",
   "execution_count": null,
   "metadata": {},
   "outputs": [],
   "source": []
  },
  {
   "cell_type": "markdown",
   "metadata": {},
   "source": []
  }
 ],
 "metadata": {
  "language_info": {
   "name": "python"
  }
 },
 "nbformat": 4,
 "nbformat_minor": 2
}
