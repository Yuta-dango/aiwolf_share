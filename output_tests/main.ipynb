{
 "cells": [
  {
   "cell_type": "markdown",
   "metadata": {},
   "source": [
    "第一段階　プロトコル文を受け取って発話する\n",
    "第二段階　各エージェントのスコア情報・過去の会話ログの情報も含めて発話"
   ]
  },
  {
   "cell_type": "code",
   "execution_count": 2,
   "metadata": {},
   "outputs": [
    {
     "data": {
      "text/plain": [
       "'\\n#現時点での各エージェントのスコア的なもの\\nscores = {\"Agent[00]\" : 29,\\u3000・・・}\\n\\u3000\\n#直前ターンの会話ログ\\nrecent_log = {\"Agent[00]\" : \"～\" , \\u3000・・・}\\n\\n'"
      ]
     },
     "execution_count": 2,
     "metadata": {},
     "output_type": "execute_result"
    }
   ],
   "source": [
    "#入力\n",
    "\n",
    "protocol = \"REQUEST Agent[04] (DEVINATION Agent[01])\"\n",
    "\n",
    "\"\"\"\n",
    "#現時点での各エージェントのスコア的なもの\n",
    "scores = {\"Agent[00]\" : 29,　・・・}\n",
    "　\n",
    "#直前ターンの会話ログ\n",
    "recent_log = {\"Agent[00]\" : \"～\" , 　・・・}\n",
    "\n",
    "\"\"\""
   ]
  },
  {
   "cell_type": "code",
   "execution_count": 3,
   "metadata": {},
   "outputs": [
    {
     "name": "stdout",
     "output_type": "stream",
     "text": [
      "ChatCompletionMessage(content='エージェント[04]にエージェント[01]の占いを依頼する。', role='assistant', function_call=None, tool_calls=None)\n"
     ]
    }
   ],
   "source": [
    "from openai import OpenAI\n",
    "import openai\n",
    "import os\n",
    "# APIキーを環境変数として設定\n",
    "openai.api_key = os.environ[\"OPENAI_API_KEY\"]\n",
    "\n",
    "client = OpenAI()\n",
    "\n",
    "completion = client.chat.completions.create(\n",
    "  model=\"gpt-4o\",\n",
    "  messages=[\n",
    "    {\n",
    "      \"role\": \"system\", \n",
    "      \"content\": \"You are a player in a werewolf game. One [protocol sentence] is given to you, and what you should do is to translate the protocol sentence to output natural spoken language in Japanese.\"\n",
    "    },\n",
    "    \n",
    "    {\n",
    "      \"role\": \"user\", \n",
    "      \"content\": protocol\n",
    "    }\n",
    "  ]\n",
    ")\n",
    "\n",
    "print(completion.choices[0].message)"
   ]
  }
 ],
 "metadata": {
  "kernelspec": {
   "display_name": "Python 3",
   "language": "python",
   "name": "python3"
  },
  "language_info": {
   "codemirror_mode": {
    "name": "ipython",
    "version": 3
   },
   "file_extension": ".py",
   "mimetype": "text/x-python",
   "name": "python",
   "nbconvert_exporter": "python",
   "pygments_lexer": "ipython3",
   "version": "3.12.2"
  }
 },
 "nbformat": 4,
 "nbformat_minor": 2
}
