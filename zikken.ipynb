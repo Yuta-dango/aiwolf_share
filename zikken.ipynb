{
 "cells": [
  {
   "cell_type": "code",
   "execution_count": 1,
   "metadata": {},
   "outputs": [
    {
     "name": "stdout",
     "output_type": "stream",
     "text": [
      "  name category  price\n",
      "0  バナナ     フルーツ    100\n",
      "1  りんご     フルーツ    120\n"
     ]
    }
   ],
   "source": [
    "import pandas as pd\n",
    "vegtables1_1 = [\n",
    "{\n",
    "   'name': 'バナナ',\n",
    "   'category': 'フルーツ',\n",
    "   'price': 100\n",
    " },\n",
    " {\n",
    "   'name': 'りんご',\n",
    "   'category': 'フルーツ',\n",
    "   'price': 120\n",
    " }\n",
    "]\n",
    "\n",
    "df1_1 = pd.DataFrame(vegtables1_1 )\n",
    "print(df1_1)"
   ]
  },
  {
   "cell_type": "code",
   "execution_count": null,
   "metadata": {},
   "outputs": [],
   "source": []
  }
 ],
 "metadata": {
  "kernelspec": {
   "display_name": "Python 3",
   "language": "python",
   "name": "python3"
  },
  "language_info": {
   "codemirror_mode": {
    "name": "ipython",
    "version": 3
   },
   "file_extension": ".py",
   "mimetype": "text/x-python",
   "name": "python",
   "nbconvert_exporter": "python",
   "pygments_lexer": "ipython3",
   "version": "3.12.0"
  }
 },
 "nbformat": 4,
 "nbformat_minor": 2
}
