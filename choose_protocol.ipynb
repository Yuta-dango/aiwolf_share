{
 "cells": [
  {
   "cell_type": "code",
   "execution_count": 2,
   "metadata": {},
   "outputs": [],
   "source": [
    "from IPython.display import display"
   ]
  },
  {
   "cell_type": "code",
   "execution_count": 1,
   "metadata": {},
   "outputs": [],
   "source": [
    "import pandas as pd\n",
    "import numpy as np\n",
    "import os\n",
    "import openai\n",
    "openai.api_key = os.environ[\"OPENAI_API_KEY\"]\n",
    "\n",
    "from embedding import get_embedding, cos_sim\n",
    "import breakdown"
   ]
  },
  {
   "cell_type": "code",
   "execution_count": 3,
   "metadata": {},
   "outputs": [],
   "source": [
    "def prepare_dataframe(csv):\n",
    "    df = pd.read_csv(csv)\n",
    "    df[\"embedded\"] = df[\"embedded\"].map(lambda x: np.array(eval(x)))\n",
    "    return df"
   ]
  },
  {
   "cell_type": "code",
   "execution_count": 4,
   "metadata": {},
   "outputs": [],
   "source": [
    "def to_vectors(talker, comment):\n",
    "    # 要素に分割\n",
    "    sentences = eval(breakdown.get_list(talker, comment)) \n",
    "\n",
    "    # 各要素をembeddingしたリスト\n",
    "    return [get_embedding(sentence) for sentence in sentences]"
   ]
  },
  {
   "cell_type": "code",
   "execution_count": 10,
   "metadata": {},
   "outputs": [],
   "source": [
    "def ruizido(df, vector):\n",
    "    \"\"\"\n",
    "    vector: 入力文の要素の一つをembedしたもの\n",
    "    \"\"\"\n",
    "    for vector in \n",
    "    df[\"\"] = df[\"embedded\"].map(lambda x: cos_sim(x, vector))\n",
    "    return df"
   ]
  },
  {
   "cell_type": "code",
   "execution_count": 5,
   "metadata": {},
   "outputs": [
    {
     "ename": "NameError",
     "evalue": "name 'ruizido' is not defined",
     "output_type": "error",
     "traceback": [
      "\u001b[0;31m---------------------------------------------------------------------------\u001b[0m",
      "\u001b[0;31mNameError\u001b[0m                                 Traceback (most recent call last)",
      "Cell \u001b[0;32mIn[5], line 6\u001b[0m\n\u001b[1;32m      3\u001b[0m comment \u001b[38;5;241m=\u001b[39m \u001b[38;5;124m\"\u001b[39m\u001b[38;5;124mAgent[00]を占ったら黒だったよ。Agent[01]を占ったら白だったよ。\u001b[39m\u001b[38;5;124m\"\u001b[39m\n\u001b[1;32m      5\u001b[0m \u001b[38;5;28;01mfor\u001b[39;00m vector \u001b[38;5;129;01min\u001b[39;00m to_vectors(talker, comment):\n\u001b[0;32m----> 6\u001b[0m         \u001b[38;5;28mprint\u001b[39m(\u001b[43mruizido\u001b[49m(df, vector))\n",
      "\u001b[0;31mNameError\u001b[0m: name 'ruizido' is not defined"
     ]
    }
   ],
   "source": [
    "df = prepare_dataframe(\"embedded.csv\")\n",
    "talker = \"Agent[00]\"\n",
    "comment = \"Agent[00]を占ったら黒だったよ。Agent[01]を占ったら白だったよ。\"\n",
    "\n",
    "for vector in to_vectors(talker, comment):\n",
    "        print(ruizido(df, vector))"
   ]
  },
  {
   "cell_type": "code",
   "execution_count": null,
   "metadata": {},
   "outputs": [],
   "source": []
  }
 ],
 "metadata": {
  "kernelspec": {
   "display_name": "Python 3",
   "language": "python",
   "name": "python3"
  },
  "language_info": {
   "codemirror_mode": {
    "name": "ipython",
    "version": 3
   },
   "file_extension": ".py",
   "mimetype": "text/x-python",
   "name": "python",
   "nbconvert_exporter": "python",
   "pygments_lexer": "ipython3",
   "version": "3.12.0"
  }
 },
 "nbformat": 4,
 "nbformat_minor": 2
}
