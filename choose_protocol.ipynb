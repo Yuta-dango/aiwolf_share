{
 "cells": [
  {
   "cell_type": "code",
   "execution_count": 15,
   "metadata": {},
   "outputs": [],
   "source": [
    "import pandas as pd\n",
    "import numpy as np\n",
    "import os\n",
    "import openai\n",
    "openai.api_key = os.environ[\"OPENAI_API_KEY\"]\n",
    "\n",
    "from embedding import get_embedding, cos_sim\n",
    "import breakdown"
   ]
  },
  {
   "cell_type": "code",
   "execution_count": 7,
   "metadata": {},
   "outputs": [],
   "source": [
    "def prepare_dataframe(csv):\n",
    "    df = pd.read_csv(csv)\n",
    "    df[\"embedded\"] = df[\"embedded\"].map(lambda x: np.array(eval(x)))\n",
    "    return df"
   ]
  },
  {
   "cell_type": "code",
   "execution_count": 16,
   "metadata": {},
   "outputs": [],
   "source": [
    "def to_vectors(talker, comment):\n",
    "    # 要素に分割\n",
    "    sentences = eval(breakdown.get_list(talker, comment)) \n",
    "\n",
    "    # 各要素をembeddingしたリスト\n",
    "    return [get_embedding(sentence) for sentence in sentences]"
   ]
  },
  {
   "cell_type": "code",
   "execution_count": 10,
   "metadata": {},
   "outputs": [],
   "source": [
    "def ruizido(df, vector):\n",
    "    \"\"\"\n",
    "    vector: 入力文の要素の一つをembedしたもの\n",
    "    \"\"\"\n",
    "    for vector in \n",
    "    df[\"\"] = df[\"embedded\"].map(lambda x: cos_sim(x, vector))\n",
    "    return df"
   ]
  },
  {
   "cell_type": "code",
   "execution_count": 19,
   "metadata": {},
   "outputs": [
    {
     "name": "stdout",
     "output_type": "stream",
     "text": [
      "                                      sentence       verb  \\\n",
      "0                I think [AGENT] is the [ROLE]   ESTIMATE   \n",
      "1       I'm pretty sure [AGENT] is the [ROLE].   ESTIMATE   \n",
      "2                  [AGENT] must be the [ROLE].   ESTIMATE   \n",
      "3               [AGENT] seems like the [ROLE].   ESTIMATE   \n",
      "4             I suspect [AGENT] is the [ROLE].   ESTIMATE   \n",
      "..                                         ...        ...   \n",
      "101       I’m not on the same page as [AGENT].  NOT AGREE   \n",
      "102         I’m not in agreement with [AGENT].  NOT AGREE   \n",
      "103       I don't support [AGENT]'s viewpoint.  NOT AGREE   \n",
      "104            I don't back [AGENT]'s opinion.  NOT AGREE   \n",
      "105  I don't align with [AGENT]'s perspective.  NOT AGREE   \n",
      "\n",
      "                                              embedded   cos_sim  \n",
      "0    [-0.025435129180550575, 0.02359001524746418, -...  0.456222  \n",
      "1    [-0.026453986763954163, 0.015379550866782665, ...  0.454277  \n",
      "2    [-0.03527791053056717, 0.05349048972129822, -0...  0.474992  \n",
      "3    [-0.039609190076589584, 0.03394649922847748, -...  0.465897  \n",
      "4    [-0.024884728714823723, 0.03168796747922897, -...  0.441513  \n",
      "..                                                 ...       ...  \n",
      "101  [-0.02111106365919113, 0.023209236562252045, 0...  0.363315  \n",
      "102  [-0.027951616793870926, 0.04496261104941368, 0...  0.346761  \n",
      "103  [-0.0039258478209376335, 0.013852584175765514,...  0.294129  \n",
      "104  [0.02674938552081585, 0.006069068796932697, -0...  0.247829  \n",
      "105  [-0.02435404062271118, 0.0319083034992218, 0.0...  0.313741  \n",
      "\n",
      "[106 rows x 4 columns]\n",
      "                                      sentence       verb  \\\n",
      "0                I think [AGENT] is the [ROLE]   ESTIMATE   \n",
      "1       I'm pretty sure [AGENT] is the [ROLE].   ESTIMATE   \n",
      "2                  [AGENT] must be the [ROLE].   ESTIMATE   \n",
      "3               [AGENT] seems like the [ROLE].   ESTIMATE   \n",
      "4             I suspect [AGENT] is the [ROLE].   ESTIMATE   \n",
      "..                                         ...        ...   \n",
      "101       I’m not on the same page as [AGENT].  NOT AGREE   \n",
      "102         I’m not in agreement with [AGENT].  NOT AGREE   \n",
      "103       I don't support [AGENT]'s viewpoint.  NOT AGREE   \n",
      "104            I don't back [AGENT]'s opinion.  NOT AGREE   \n",
      "105  I don't align with [AGENT]'s perspective.  NOT AGREE   \n",
      "\n",
      "                                              embedded   cos_sim  \n",
      "0    [-0.025435129180550575, 0.02359001524746418, -...  0.496425  \n",
      "1    [-0.026453986763954163, 0.015379550866782665, ...  0.479941  \n",
      "2    [-0.03527791053056717, 0.05349048972129822, -0...  0.516844  \n",
      "3    [-0.039609190076589584, 0.03394649922847748, -...  0.517198  \n",
      "4    [-0.024884728714823723, 0.03168796747922897, -...  0.458553  \n",
      "..                                                 ...       ...  \n",
      "101  [-0.02111106365919113, 0.023209236562252045, 0...  0.358716  \n",
      "102  [-0.027951616793870926, 0.04496261104941368, 0...  0.366144  \n",
      "103  [-0.0039258478209376335, 0.013852584175765514,...  0.350146  \n",
      "104  [0.02674938552081585, 0.006069068796932697, -0...  0.289402  \n",
      "105  [-0.02435404062271118, 0.0319083034992218, 0.0...  0.332835  \n",
      "\n",
      "[106 rows x 4 columns]\n"
     ]
    }
   ],
   "source": [
    "df = prepare_dataframe(\"embedded.csv\")\n",
    "talker = \"Agent[00]\"\n",
    "comment = \"Agent[00]を占ったら黒だったよ。Agent[01]を占ったら白だったよ。\"\n",
    "\n",
    "for vector in to_vectors(talker, comment):\n",
    "        print(ruizido(df, vector))"
   ]
  }
 ],
 "metadata": {
  "kernelspec": {
   "display_name": "Python 3",
   "language": "python",
   "name": "python3"
  },
  "language_info": {
   "codemirror_mode": {
    "name": "ipython",
    "version": 3
   },
   "file_extension": ".py",
   "mimetype": "text/x-python",
   "name": "python",
   "nbconvert_exporter": "python",
   "pygments_lexer": "ipython3",
   "version": "3.12.0"
  }
 },
 "nbformat": 4,
 "nbformat_minor": 2
}
