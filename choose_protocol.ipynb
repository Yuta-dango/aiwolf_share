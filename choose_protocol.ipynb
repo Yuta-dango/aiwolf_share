{
 "cells": [
  {
   "cell_type": "code",
   "execution_count": 11,
   "metadata": {},
   "outputs": [],
   "source": [
    "from IPython.display import display"
   ]
  },
  {
   "cell_type": "code",
   "execution_count": 12,
   "metadata": {},
   "outputs": [],
   "source": [
    "import pandas as pd\n",
    "import numpy as np\n",
    "import os\n",
    "import openai\n",
    "openai.api_key = os.environ[\"OPENAI_API_KEY\"]\n",
    "\n",
    "from embedding import get_embedding, cos_sim\n",
    "import breakdown"
   ]
  },
  {
   "cell_type": "code",
   "execution_count": 19,
   "metadata": {},
   "outputs": [],
   "source": [
    "def prepare_dataframe(csv):\n",
    "    df = pd.read_csv(csv)\n",
    "    df[\"embedded\"] = df[\"embedded\"].map(lambda x: eval(x))\n",
    "    return df"
   ]
  },
  {
   "cell_type": "code",
   "execution_count": 14,
   "metadata": {},
   "outputs": [],
   "source": [
    "class Sentence:\n",
    "    def __init__(self, verb, agent, role, team):\n",
    "        self.verb = verb\n",
    "        self.agent = agent\n",
    "        self.role = role\n",
    "        self.team = team"
   ]
  },
  {
   "cell_type": "code",
   "execution_count": 22,
   "metadata": {},
   "outputs": [],
   "source": [
    "\n",
    "def to_vectors(talker, comment):\n",
    "    # 要素に分割\n",
    "    sentences = eval(breakdown.get_list(talker, comment)) [0]\n",
    "\n",
    "    # 各要素をembeddingしたリスト\n",
    "    return [get_embedding(sentence) for sentence in sentences]"
   ]
  },
  {
   "cell_type": "code",
   "execution_count": 24,
   "metadata": {},
   "outputs": [
    {
     "name": "stdout",
     "output_type": "stream",
     "text": [
      "['I was black when inspected', 'Agent[01] was white when inspected']\n"
     ]
    }
   ],
   "source": [
    "talker = \"Agent[00]\"\n",
    "comment = \"Agent[00]を占ったら黒だったよ。Agent[01]を占ったら白だったよ。\"\n",
    "print(eval(breakdown.get_list(talker, comment))[0])"
   ]
  },
  {
   "cell_type": "code",
   "execution_count": 27,
   "metadata": {},
   "outputs": [],
   "source": [
    "#最大類似度とそのindexをタプルに入れて返す関数\n",
    "\n",
    "def ruizido(df, vector):\n",
    "    \"\"\"\n",
    "    vector: 入力文の要素の一つをembedしたもの\n",
    "    \"\"\"\n",
    "    similarity_list = [] #一旦、類似度だけを格納しておくためのリスト\n",
    "    for i in df[\"embedded\"]:\n",
    "        similarity_list.append(cos_sim(i, vector))\n",
    "        \n",
    "    a = similarity_list.index(max(similarity_list))\n",
    "    b = max(similarity_list)\n",
    "    \n",
    "    \n",
    "    #最大の類似度と、その文のindexを返す\n",
    "    return (b, a)"
   ]
  },
  {
   "cell_type": "code",
   "execution_count": 40,
   "metadata": {},
   "outputs": [],
   "source": [
    "#最終的なリストの作成\n",
    "#from send import Sentence\n",
    "\n",
    "def infolist(df, vectorlist): #vectorlistはto_vectors(talker, comment)の返り値\n",
    "    a = []\n",
    "    for i in vectorlist:\n",
    "        verb = df.loc[ruizido(df, i)[1], \"Verb\"]\n",
    "        agent = df.loc[ruizido(df, i)[1], \"Agent\"]\n",
    "        role = df.loc[ruizido(df, i)[1], \"Role\"]\n",
    "        team = df.loc[ruizido(df, i)[1], \"Team\"]\n",
    "        \n",
    "        \n",
    "        #a.append((verb, agent, role, team))\n",
    "        \n",
    "        sentence = Sentence(verb, agent, role, team)\n",
    "        a.append(sentence)\n",
    "    \n",
    "    return a\n",
    "        \n",
    "    \n",
    "        "
   ]
  },
  {
   "cell_type": "code",
   "execution_count": 41,
   "metadata": {},
   "outputs": [
    {
     "name": "stdout",
     "output_type": "stream",
     "text": [
      "[<__main__.Sentence object at 0x000001DBEAC1BAA0>, <__main__.Sentence object at 0x000001DBEACA9190>]\n"
     ]
    }
   ],
   "source": [
    "df = prepare_dataframe(\"new_new_embedded_all.csv\")\n",
    "talker = \"Agent[00]\"\n",
    "comment = \"Agent[00]を占ったら黒だったよ。Agent[01]を占ったら白だったよ。\"\n",
    "\n",
    "print(infolist(df, to_vectors(talker, comment)))\n",
    "\n",
    "\n",
    "\n",
    "\n"
   ]
  }
 ],
 "metadata": {
  "kernelspec": {
   "display_name": "Python 3",
   "language": "python",
   "name": "python3"
  },
  "language_info": {
   "codemirror_mode": {
    "name": "ipython",
    "version": 3
   },
   "file_extension": ".py",
   "mimetype": "text/x-python",
   "name": "python",
   "nbconvert_exporter": "python",
   "pygments_lexer": "ipython3",
   "version": "3.12.2"
  }
 },
 "nbformat": 4,
 "nbformat_minor": 2
}
