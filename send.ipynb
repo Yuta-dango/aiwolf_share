{
 "cells": [
  {
   "cell_type": "code",
   "execution_count": null,
   "metadata": {},
   "outputs": [],
   "source": [
    "class Sentence:\n",
    "    def __init__(self, verb, agent, role, team):\n",
    "        self.verb = verb\n",
    "        self.agent = agent\n",
    "        self.role = role\n",
    "        self.team = team"
   ]
  },
  {
   "cell_type": "code",
   "execution_count": null,
   "metadata": {},
   "outputs": [],
   "source": [
    "class A:\n",
    "    def __init__(self, flag):\n",
    "        self.flag = flag\n",
    "        self.sentences = []\n",
    "    def append(self, verb, agent, role, team):\n",
    "        sentence = Sentence(verb, agent, role, team)\n",
    "        self.sentences.append(sentence)"
   ]
  },
  {
   "cell_type": "code",
   "execution_count": null,
   "metadata": {},
   "outputs": [],
   "source": [
    "a = A(flag = True)"
   ]
  },
  {
   "cell_type": "code",
   "execution_count": null,
   "metadata": {},
   "outputs": [],
   "source": [
    "a.append((verb, [agent]))"
   ]
  },
  {
   "cell_type": "code",
   "execution_count": null,
   "metadata": {},
   "outputs": [],
   "source": [
    "(1, [(verb, [agent]), (verb, [agent]), ...])"
   ]
  }
 ],
 "metadata": {
  "language_info": {
   "name": "python"
  }
 },
 "nbformat": 4,
 "nbformat_minor": 2
}
