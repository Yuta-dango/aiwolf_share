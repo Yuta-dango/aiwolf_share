{
 "cells": [
  {
   "cell_type": "code",
   "execution_count": 2,
   "metadata": {},
   "outputs": [],
   "source": [
    "import pandas as pd"
   ]
  },
  {
   "cell_type": "code",
   "execution_count": 3,
   "metadata": {},
   "outputs": [],
   "source": [
    "import breakdown # remarkを要素に分割/flag\n",
    "import embedding # 文章をembedding\n",
    "from embedding import get_embedding, cos_sim"
   ]
  },
  {
   "cell_type": "code",
   "execution_count": null,
   "metadata": {},
   "outputs": [],
   "source": [
    "import pandas as pd \n",
    "\n",
    "def prepare_dataframe(csv):\n",
    "    df = pd.read_csv(csv)\n",
    "    df[\"embedded\"] = df[\"embedded\"].map(lambda x: eval(x))\n",
    "    return df"
   ]
  },
  {
   "cell_type": "code",
   "execution_count": 5,
   "metadata": {},
   "outputs": [],
   "source": [
    "# dataframeの設定\n",
    "df = prepare_dataframe(\"new_new_embedded_all.csv\")"
   ]
  },
  {
   "cell_type": "code",
   "execution_count": 9,
   "metadata": {},
   "outputs": [],
   "source": [
    "class Sentence:\n",
    "    def __init__(self, verb, agent, role, team):\n",
    "        self.verb = verb\n",
    "        self.agent = agent\n",
    "        self.role = role\n",
    "        self.team = team"
   ]
  },
  {
   "cell_type": "code",
   "execution_count": 48,
   "metadata": {},
   "outputs": [],
   "source": [
    "class Comment:\n",
    "    def __init__(self, remark, talker):\n",
    "        self.remark = remark\n",
    "        self.talker = talker\n",
    "        self.flag = None \n",
    "        \n",
    "    def remark_to_protocol(self):\n",
    "        \"\"\"\n",
    "        大元のメソッド. Commentのインスタンスに対して呼び出すと、remarkがプロトコルに変換され、flagが立つ\n",
    "        \"\"\"\n",
    "        vectorlist = self.remark_to_vectors(self.talker, self.remark)\n",
    "        return self.vectors_to_protocols(vectorlist)\n",
    "\n",
    "    def remark_to_vectors(self, talker, remark):\n",
    "        \"\"\"\n",
    "        gptの処理を呼び出して、remarkを要素に分割し、各要素をembeddingしたリストを返す\n",
    "        flagも設定する\n",
    "        \"\"\"\n",
    "        return_from_gpt = breakdown.get_list(talker, remark)\n",
    "        sentences = return_from_gpt[0]\n",
    "        self.flag = return_from_gpt[1]\n",
    "\n",
    "        # 各要素をembeddingしたリスト\n",
    "        return [get_embedding(sentence) for sentence in sentences]\n",
    "    \n",
    "    def ruizido(self, vector):\n",
    "        \"\"\"\n",
    "        入力文の要素の一つをembedしたベクトルと、データフレームのembedded列のベクトルとの類似度を計算し、最も類似度が高い文のindexを返す\n",
    "        \"\"\"\n",
    "        similarity_list = [] #一旦、類似度だけを格納しておくためのリスト\n",
    "        for i in df[\"embedded\"]:\n",
    "            similarity_list.append(cos_sim(i, vector))\n",
    "            \n",
    "        index = similarity_list.index(max(similarity_list))\n",
    "        max_sim = max(similarity_list)\n",
    "        \n",
    "        \n",
    "        #最大の類似度と、その文のindexを返す\n",
    "        return (max_sim, index)\n",
    "\n",
    "    #最終的なリストの作成\n",
    "    #from send import Sentence\n",
    "\n",
    "    def vectors_to_protocols(self, vectorlist): #vectorlistはto_vectors(talker, comment)の返り値\n",
    "        protocol_list = []\n",
    "        for i in vectorlist:\n",
    "            verb = df.loc[self.ruizido(i)[1], \"Verb\"]\n",
    "            agent = df.loc[self.ruizido(i)[1], \"Agent\"]\n",
    "            role = df.loc[self.ruizido(i)[1], \"Role\"]\n",
    "            team = df.loc[self.ruizido(i)[1], \"Team\"]\n",
    "            \n",
    "            \n",
    "            \n",
    "            sentence = Sentence(verb, agent, role, team)\n",
    "            protocol_list.append(sentence)\n",
    "        \n",
    "        return protocol_list\n",
    "        "
   ]
  },
  {
   "cell_type": "code",
   "execution_count": 49,
   "metadata": {},
   "outputs": [],
   "source": [
    "comment1 = Comment(\"Agent[02]を占ったら黒だったよ。Agent[01]を占ったら白だったよ。\", \"Agent[00]\") \n",
    "protocol_list = comment1.remark_to_protocol()"
   ]
  },
  {
   "cell_type": "code",
   "execution_count": 50,
   "metadata": {},
   "outputs": [
    {
     "name": "stdout",
     "output_type": "stream",
     "text": [
      "DIVINED Agent[02] nan BLACK\n",
      "DIVINED Agent[01] nan WHITE\n",
      "0\n"
     ]
    }
   ],
   "source": [
    "for protocol in protocol_list:\n",
    "    print(protocol.verb, protocol.agent, protocol.role, protocol.team)\n",
    "print(comment1.flag)"
   ]
  },
  {
   "cell_type": "code",
   "execution_count": 47,
   "metadata": {},
   "outputs": [
    {
     "name": "stdout",
     "output_type": "stream",
     "text": [
      "NOT SUSPECT Agent[00] nan nan\n",
      "VOTE Agent[00] nan nan\n",
      "0\n"
     ]
    }
   ],
   "source": [
    "comment2 = Comment(\"Agent[00]の言っていることは信じられない。今夜はAgent[00]に投票するよ。\", \"Agent[01]\") \n",
    "protocol_list = comment1.remark_to_protocol()\n",
    "for protocol in protocol_list:\n",
    "    print(protocol.verb, protocol.agent, protocol.role, protocol.team)\n",
    "print(comment1.flag)"
   ]
  }
 ],
 "metadata": {
  "kernelspec": {
   "display_name": "Python 3",
   "language": "python",
   "name": "python3"
  },
  "language_info": {
   "codemirror_mode": {
    "name": "ipython",
    "version": 3
   },
   "file_extension": ".py",
   "mimetype": "text/x-python",
   "name": "python",
   "nbconvert_exporter": "python",
   "pygments_lexer": "ipython3",
   "version": "3.12.0"
  }
 },
 "nbformat": 4,
 "nbformat_minor": 2
}
